{
 "cells": [
  {
   "cell_type": "markdown",
   "id": "6ee74ebf",
   "metadata": {},
   "source": [
    "$$\n",
    "H = H^{XX} + H^{YY} + H^{ZZ} + H^{Z}\n",
    "$$\n",
    "where\n",
    "$$\n",
    "H^{XX} = \\text{x}\\sum_{n=0}^{N-2} X_n X_{n+1}\n",
    "$$\n",
    "$$\n",
    "H^{YY} = \\text{x}\\sum_{n=0}^{N-2} Y_n Y_{n+1}\n",
    "$$\n",
    "$$\n",
    "H^{ZZ} = \\frac{1}{4}\\sum_{n=0}^{N-2}\\sum^{n}_{m\\neq k} Z_m Z_k\n",
    "$$\n",
    "$$\n",
    "H^{Z} = \\frac{\\mu}{2}\\sum_{n=0}^{N-1}(-1)^{n+1}Z_n + \\mathcal{E}_0\\sum_{n=0}^{N-2}\\sum_{m=0}^n Z_m - \\frac{1}{2}\\sum_{n=0}^{N-2}\\sum_{m\\neq k}^n (-1)^m Z_k\n",
    "$$"
   ]
  },
  {
   "cell_type": "code",
   "execution_count": 1,
   "id": "e22ad0b9",
   "metadata": {},
   "outputs": [],
   "source": [
    "import numpy as np\n",
    "from qiskit.quantum_info import SparsePauliOp\n",
    "\n",
    "e0 = 0\n",
    "x = 0.6\n",
    "mu = 0.1\n",
    "\n",
    "N=4\n",
    "\n",
    "def H_schwinger(x, mu):\n",
    "    \"\"\"\n",
    "    Constructs the Hamiltonian for the Schwinger model with N sites.\n",
    "    \"\"\"\n",
    "    HXX = SparsePauliOp(['XXII', 'IXXI', 'IIXX'], coeffs = [0.5*x]*3)\n",
    "    HYY = SparsePauliOp(['YYII', 'IYYI', 'IIYY'], coeffs = [0.5*x]*3)\n",
    "    HZZ = SparsePauliOp(['ZZII', 'ZIZI', 'IZZI'], coeffs = [1, 0.5, 0.5])\n",
    "    HZ1 = SparsePauliOp(['-1ZIII', 'IZII', '-1IIZI', 'IIIZ'], coeffs = [0.5*mu]*4)\n",
    "    #HZ2 = SparsePauliOp([], coeffs = [e0]*3)\n",
    "    HZ3 = SparsePauliOp(['ZIII', 'ZIII', 'IZII', 'IIZI'], coeffs = [-0.5]*4)\n",
    "    H_shift = SparsePauliOp(['I'*N], coeffs=[2])\n",
    "    \n",
    "    return HXX + HYY + HZZ + HZ1 + HZ3 + H_shift\n"
   ]
  },
  {
   "cell_type": "code",
   "execution_count": 2,
   "id": "98915ef4",
   "metadata": {},
   "outputs": [
    {
     "data": {
      "text/plain": [
       "(array([0.+0.j, 0.+0.j, 0.+0.j, 0.+0.j, 0.+0.j, 0.+0.j, 0.+0.j, 0.+0.j,\n",
       "        0.+0.j, 1.+0.j, 0.+0.j, 0.+0.j, 0.+0.j, 0.+0.j, 0.+0.j, 0.+0.j]),\n",
       " array([-0.2, -0.1,  0.9,  1. ,  1. ,  1. ,  1.1,  1.1,  1.9,  2. ,  2.1,\n",
       "         2.2,  2.9,  3. ,  6. ,  6.1]))"
      ]
     },
     "execution_count": 2,
     "metadata": {},
     "output_type": "execute_result"
    }
   ],
   "source": [
    "# strong vacuum state\n",
    "eigvals, eigvecs = np.linalg.eigh(H_schwinger(0, mu).to_matrix())\n",
    "initial_state = eigvecs[np.argmin(eigvals)]\n",
    "initial_state, eigvals"
   ]
  },
  {
   "cell_type": "code",
   "execution_count": 3,
   "id": "e63e0795",
   "metadata": {},
   "outputs": [
    {
     "data": {
      "text/plain": [
       "array([-0.84487809, -0.55591798,  0.62550611,  0.7470235 ,  0.88259793,\n",
       "        1.        ,  1.34238256,  1.40926326,  1.9913733 ,  2.        ,\n",
       "        2.26405679,  2.34697392,  3.17141253,  3.40849811,  6.        ,\n",
       "        6.21170807])"
      ]
     },
     "execution_count": 3,
     "metadata": {},
     "output_type": "execute_result"
    }
   ],
   "source": [
    "H = H_schwinger(x, mu)\n",
    "H_matrix = H.to_matrix()\n",
    "\n",
    "E_vals = np.sort(np.linalg.eigvalsh(H_matrix))\n",
    "E_vals"
   ]
  },
  {
   "cell_type": "code",
   "execution_count": 4,
   "id": "a38c38e7",
   "metadata": {},
   "outputs": [],
   "source": [
    "from qiskit import QuantumCircuit\n",
    "from qiskit.quantum_info import Statevector\n",
    "from qiskit.circuit.library import PauliEvolutionGate\n",
    "from qiskit.synthesis import LieTrotter, SuzukiTrotter\n",
    "\n",
    "# part c\n",
    "\n",
    "def get_final_state(H, initial_state, time, trotterization_order=1):\n",
    "    if trotterization_order == 1:\n",
    "        trotterization = LieTrotter(10)\n",
    "    elif trotterization_order > 1:       \n",
    "        trotterization = SuzukiTrotter(10)\n",
    "    else:\n",
    "        raise ValueError(\"Trotterization order must be greater than 0.\")\n",
    "    \n",
    "    evo = PauliEvolutionGate(H, time=time, synthesis=trotterization)\n",
    "    \n",
    "    final_state = initial_state.evolve(evo)\n",
    "\n",
    "    return final_state"
   ]
  },
  {
   "cell_type": "code",
   "execution_count": null,
   "id": "55262491",
   "metadata": {},
   "outputs": [
    {
     "name": "stderr",
     "output_type": "stream",
     "text": [
      "100%|██████████| 10/10 [00:13<00:00,  1.36s/it]\n"
     ]
    }
   ],
   "source": [
    "import matplotlib.pyplot as plt\n",
    "from tqdm import tqdm\n",
    "\n",
    "\n",
    "t = np.linspace(0, 5, 100)\n",
    "initial_state = Statevector(initial_state)\n",
    "echo_order1 = []\n",
    "echo_order2 = []\n",
    "fs_density_order1 = []\n",
    "fs_density_order2 = []\n",
    "\n",
    "V = SparsePauliOp(['IIII', '-1ZIII', 'IZII', '-1IIZI', 'IIIZ'], coeffs = [0.5]+[0.125]*4)\n",
    "for ti in tqdm(t):\n",
    "    final_state = get_final_state(H, initial_state, ti, trotterization_order=1)\n",
    "    echo_order1.append(np.abs(final_state.inner(initial_state))**2)\n",
    "    fs_density_order1.append(final_state.expectation_value(V))\n",
    "    final_state = get_final_state(H, initial_state, ti, trotterization_order=2)\n",
    "    echo_order2.append(np.abs(final_state.inner(initial_state))**2)\n",
    "    fs_density_order2.append(final_state.expectation_value(V))"
   ]
  },
  {
   "cell_type": "code",
   "execution_count": 11,
   "id": "f9a7f154",
   "metadata": {},
   "outputs": [
    {
     "data": {
      "image/png": "[encoded data removed]",
      "text/plain": [
       "<Figure size 600x300 with 1 Axes>"
      ]
     },
     "metadata": {},
     "output_type": "display_data"
    }
   ],
   "source": [
    "plt.figure(figsize=(6,3))\n",
    "\n",
    "plt.scatter(t, echo_order1, label='1st order')\n",
    "plt.scatter(t, echo_order2, label='2nd order')\n",
    "plt.xlabel(r'$t$')\n",
    "plt.ylabel(r'$\\mathcal{P}(t)$')\n",
    "plt.legend()\n",
    "plt.show()"
   ]
  },
  {
   "cell_type": "code",
   "execution_count": 13,
   "id": "78ad4c1a",
   "metadata": {},
   "outputs": [
    {
     "name": "stderr",
     "output_type": "stream",
     "text": [
      "/home/pablo/miniconda3/envs/vqiskit/lib/python3.13/site-packages/matplotlib/cbook.py:1719: ComplexWarning: Casting complex values to real discards the imaginary part\n",
      "  return math.isfinite(val)\n",
      "/home/pablo/miniconda3/envs/vqiskit/lib/python3.13/site-packages/matplotlib/collections.py:200: ComplexWarning: Casting complex values to real discards the imaginary part\n",
      "  offsets = np.asanyarray(offsets, float)\n"
     ]
    },
    {
     "data": {
      "image/png": "[encoded data removed]",
      "text/plain": [
       "<Figure size 600x300 with 1 Axes>"
      ]
     },
     "metadata": {},
     "output_type": "display_data"
    }
   ],
   "source": [
    "plt.figure(figsize=(6,3))\n",
    "\n",
    "plt.scatter(t, fs_density_order1, label='1st order')\n",
    "plt.scatter(t, fs_density_order2, label='2nd order')\n",
    "plt.xlabel(r'$t$')\n",
    "plt.ylabel(r'$\\nu(t)$')\n",
    "plt.legend()\n",
    "plt.show()"
   ]
  }
 ],
 "metadata": {
  "kernelspec": {
   "display_name": "vqiskit",
   "language": "python",
   "name": "python3"
  },
  "language_info": {
   "codemirror_mode": {
    "name": "ipython",
    "version": 3
   },
   "file_extension": ".py",
   "mimetype": "text/x-python",
   "name": "python",
   "nbconvert_exporter": "python",
   "pygments_lexer": "ipython3",
   "version": "3.13.5"
  }
 },
 "nbformat": 4,
 "nbformat_minor": 5
}
