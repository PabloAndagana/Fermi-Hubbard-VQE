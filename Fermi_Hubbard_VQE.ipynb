{
  "cells": [
    {
      "cell_type": "markdown",
      "metadata": {
        "id": "k7todaoOb3HB"
      },
      "source": [
        "**Study of Quantum Field Theory systems via quantum computing techniques**\n",
        "\n",
        "This respository has the simulation of a $2 \\times 2$ lattice for the half filled Fermi-Hubbard model, as a complementary part of the report."
      ]
    },
    {
      "cell_type": "code",
      "execution_count": 1,
      "metadata": {
        "colab": {
          "base_uri": "https://localhost:8080/"
        },
        "collapsed": true,
        "id": "fB9vHaz2OeOw",
        "outputId": "49d62fdf-dbd1-4c39-ccce-ddfe5ad85683"
      },
      "outputs": [],
      "source": [
        "import pennylane as qml\n",
        "from pennylane import numpy as np\n",
        "import matplotlib.pyplot as plt"
      ]
    },
    {
      "cell_type": "code",
      "execution_count": 2,
      "metadata": {
        "id": "JqLOTDCCYt5A"
      },
      "outputs": [],
      "source": [
        "n_sites = 4  # 2x2 lattice\n",
        "n_qubits = 2 * n_sites\n",
        "n_cells = (2, 2)\n",
        "U = 1\n",
        "t = 1\n",
        "layers = 8"
      ]
    },
    {
      "cell_type": "code",
      "execution_count": 3,
      "metadata": {
        "id": "Os2dfWJXz-ov"
      },
      "outputs": [],
      "source": [
        "dev = qml.device(\"default.qubit\", wires=n_qubits)\n",
        "qml.drawer.use_style('pennylane')"
      ]
    },
    {
      "cell_type": "markdown",
      "metadata": {
        "id": "U3lGFYkGcYDL"
      },
      "source": [
        "**On-site interaction term**\n",
        "\n",
        "The on-site Coulomb interaction for a given site can be written as\n",
        "\n",
        "\\begin{equation}\n",
        "    e^{- \\frac{i}{4} U \\theta (1 - Z_i)(1 - Z_j)},\n",
        "\\end{equation}\n",
        "\n",
        "where $\\theta$ is a variational parameter. This term can be implemented using a sequence of three PennyLane operations: two single-qubit $Z$-rotations qml.RZ and one two-qubit Ising interaction gate qml.IsingZZ. The exponential can be expanded as:\n",
        "\n",
        "\\begin{equation}\n",
        "    e^{- \\frac{i}{4} U \\theta (1 - Z_i)(1 - Z_j)}\n",
        "    = e^{- \\frac{i U \\theta}{4}}\n",
        "      e^{\\frac{i U \\theta}{4} Z_i}\n",
        "      e^{\\frac{i U \\theta}{4} Z_j}\n",
        "      e^{-\\frac{i U \\theta}{4} Z_i Z_j}\n",
        "\\end{equation}\n",
        "\n",
        "The operators define the sequence of gates used in implementation."
      ]
    },
    {
      "cell_type": "code",
      "execution_count": 4,
      "metadata": {
        "id": "mA9omm4OeHam"
      },
      "outputs": [],
      "source": [
        "def onsite_interaction(q_i,q_j,theta):\n",
        "    qml.GlobalPhase(theta / 4)\n",
        "    qml.RZ( theta / 2, wires=q_i)\n",
        "    qml.RZ(theta / 2, wires=q_j)\n",
        "    qml.IsingZZ(theta/ 2, wires=[q_i, q_j])"
      ]
    },
    {
      "cell_type": "markdown",
      "metadata": {
        "id": "WEVhQdVMeIov"
      },
      "source": [
        "Hopping term\n",
        "\n",
        "To implement hopping terms such as\n",
        "\n",
        "\\begin{equation}\n",
        "    -\\frac{J}{2} (X_0 X_4 + Y_0 Y_4) Z_1 Z_2 Z_3,\n",
        "\\end{equation}\n",
        "\n",
        "where the interaction occurs between non-adjacent qubits, in this case, qubit 0 and qubit 4 in JW ordering, we must eliminate the inefficient Jordan-Wigner $Z$-string $Z_1 Z_2 Z_3$. This is accomplished by moving one qubit to an adjacent position using FSWAP gates.\n",
        "\n",
        " Once the qubits are adjacent, we apply a simplified hopping interaction:\n",
        "\n",
        "\\begin{equation}\n",
        "    e^{- \\frac{i J \\theta}{4}(X_i X_j + Y_i Y_j)}.\n",
        "\\end{equation}\n",
        "\n",
        "The movement and interaction can be encoded using the following algorithm:"
      ]
    },
    {
      "cell_type": "code",
      "execution_count": 5,
      "metadata": {
        "id": "zljMCA9aeJNV"
      },
      "outputs": [],
      "source": [
        "def apply_hopping(q_i,q_j,theta):\n",
        "    qml.IsingXY(t * theta, wires=[q_i, q_j])\n",
        "\n",
        "def move_and_hop(i, j, theta):\n",
        "\n",
        "    path = list(range(min(i, j), max(i, j)))\n",
        "\n",
        "    # Mover j hacia i\n",
        "    for k in path:\n",
        "        qml.FermionicSWAP(phi=np.pi,wires=[k, k+1])\n",
        "\n",
        "    # Aplicar hopping entre adyacentes\n",
        "    apply_hopping(i, i+1, theta)\n",
        "\n",
        "    # Deshacer swaps\n",
        "    for k in reversed(path):\n",
        "        qml.FermionicSWAP(phi=np.pi,wires=[k, k+1])\n"
      ]
    },
    {
      "cell_type": "markdown",
      "metadata": {
        "id": "uRlKd3BfeO2o"
      },
      "source": [
        "With all the functions defined we can construct a layer for the Hamiltonian Variational Asantz"
      ]
    },
    {
      "cell_type": "code",
      "execution_count": 6,
      "metadata": {
        "id": "0SHkNR0neUV4"
      },
      "outputs": [],
      "source": [
        "def hva_layer(params, layer):\n",
        "    p = params[layer]\n",
        "\n",
        "\n",
        "    move_and_hop(0, 3, p[0])\n",
        "    move_and_hop(0, 4, p[1])\n",
        "    move_and_hop(1, 2, p[2])\n",
        "    move_and_hop(1, 5, p[3])\n",
        "    move_and_hop(3, 7, p[4])\n",
        "    move_and_hop(2, 6, p[5])\n",
        "    move_and_hop(4, 7, p[6])\n",
        "    move_and_hop(5, 6, p[2])\n",
        "\n",
        "    onsite_interaction(0, 1, p[7])\n",
        "    onsite_interaction(2, 3, p[7])\n",
        "    onsite_interaction(4, 5, p[7])\n",
        "    onsite_interaction(6, 7, p[7])"
      ]
    },
    {
      "cell_type": "markdown",
      "metadata": {
        "id": "p6cwSqg4k3Rc"
      },
      "source": [
        "All what is left is to preapre de initial state, and construct the classical optimizer."
      ]
    },
    {
      "cell_type": "code",
      "execution_count": 7,
      "metadata": {
        "id": "fZGUOIYGAqgr"
      },
      "outputs": [],
      "source": [
        "def givens_rotation(i, j, theta, phi=0):\n",
        "    qml.CNOT(wires=[j, i])\n",
        "    qml.RZ(phi, wires=j)\n",
        "    qml.CRY(2 * theta, wires=[i, j])\n",
        "    qml.CNOT(wires=[j, i])"
      ]
    },
    {
      "cell_type": "code",
      "execution_count": 8,
      "metadata": {
        "id": "vZBI3IPuAtkO"
      },
      "outputs": [],
      "source": [
        "def prepare_initial_state_givens():\n",
        "    qml.PauliX(wires=0)\n",
        "    qml.PauliX(wires=2)\n",
        "\n",
        "    qml.PauliX(wires=4)\n",
        "    qml.PauliX(wires=6)\n",
        "\n",
        "    givens_rotation(0, 1, np.pi / 4)\n",
        "    givens_rotation(2, 3, np.pi / 4)\n",
        "    givens_rotation(4, 5, np.pi / 4)\n",
        "    givens_rotation(6, 7, np.pi / 4)"
      ]
    },
    {
      "cell_type": "code",
      "execution_count": 15,
      "metadata": {
        "colab": {
          "base_uri": "https://localhost:8080/",
          "height": 467
        },
        "id": "GP067RoJyXgM",
        "outputId": "4113db92-c9af-47e7-acda-47591548609c"
      },
      "outputs": [
        {
          "name": "stderr",
          "output_type": "stream",
          "text": [
            "/home/pablo/miniconda3/envs/pennylane2/lib/python3.12/site-packages/autograd/numpy/numpy_wrapper.py:187: ComplexWarning: Casting complex values to real discards the imaginary part\n",
            "  return A.astype(dtype, order, casting, subok, copy)\n"
          ]
        },
        {
          "data": {
            "image/png": "[encoded data removed]",
            "text/plain": [
              "<Figure size 640x480 with 1 Axes>"
            ]
          },
          "metadata": {},
          "output_type": "display_data"
        },
        {
          "name": "stdout",
          "output_type": "stream",
          "text": [
            "Estimated ground state energy: -4.122366\n"
          ]
        }
      ],
      "source": [
        "def prepare_initial_state():\n",
        "    prepare_initial_state_givens()\n",
        "\n",
        "# Cost circuit\n",
        "def circuit(params):\n",
        "    #prec = 0.1\n",
        "    #rand_angle = np.pi + prec*np.random.rand() #noise\n",
        "    #for i in range(n_qubits):\n",
        "        #qml.RX(rand_angle, wires=i)\n",
        "    prepare_initial_state()\n",
        "    for l in range(layers):\n",
        "        hva_layer(params, l)\n",
        "\n",
        "@qml.qnode(dev)\n",
        "def circuit_state(params):\n",
        "  circuit(params)\n",
        "  return qml.state()\n",
        "\n",
        "@qml.qnode(dev)\n",
        "def cost_fn(params):\n",
        "    circuit(params)\n",
        "    return qml.expval(hamiltonian)\n",
        "\n",
        "def run_vqe(max_steps=100):\n",
        "    np.random.seed(42)\n",
        "    params = np.random.uniform(0, np.pi, size=(layers, 8))\n",
        "    opt = qml.AdamOptimizer(stepsize=0.1)\n",
        "    energies = []\n",
        "\n",
        "    for i in range(max_steps):\n",
        "        params, energy = opt.step_and_cost(cost_fn, params)\n",
        "        energies.append(energy)\n",
        "\n",
        "    plt.plot(energies)\n",
        "    plt.xlabel(\"Iteration\")\n",
        "    plt.ylabel(\"Energy\")\n",
        "    plt.grid()\n",
        "    plt.show()\n",
        "\n",
        "    #print(\"\\nFinal Optimized Circuit:\")\n",
        "    #fig, ax = qml.draw_mpl(cost_fn)(params)\n",
        "    #plt.show()\n",
        "\n",
        "    #print(circuit_state(params))\n",
        "    return energy\n",
        "\n",
        "\n",
        "\n",
        "ground_energy = run_vqe()\n",
        "print(f\"Estimated ground state energy: {ground_energy:.6f}\")\n"
      ]
    },
    {
      "cell_type": "markdown",
      "metadata": {
        "id": "kHT_EOG_3Jzg"
      },
      "source": [
        "#### Exact Diagonalization"
      ]
    },
    {
      "cell_type": "code",
      "execution_count": 10,
      "metadata": {
        "id": "JJ2cSLqE3MsD"
      },
      "outputs": [],
      "source": [
        "coeffs_XX_ZZ = [-t/2, -t/2]\n",
        "ops_XX_ZZ = [qml.PauliX(0) @ qml.PauliX(3) @ qml.PauliZ(1) @ qml.PauliZ(2) , qml.PauliX(4) @ qml.PauliX(7) @ qml.PauliZ(1) @ qml.PauliZ(2)]\n",
        "\n",
        "coeffs_YY_ZZ = [-t/2, -t/2]\n",
        "ops_YY_ZZ = [qml.PauliY(0) @ qml.PauliY(3) @ qml.PauliZ(1) @ qml.PauliZ(2) , qml.PauliY(4) @ qml.PauliY(7) @ qml.PauliZ(1) @ qml.PauliZ(2)]\n",
        "\n",
        "coeffs_XX_ZZZ = [-t/2, -t/2, -t/2, -t/2]\n",
        "ops_XX_ZZZ = [qml.PauliX(0) @ qml.PauliX(4) @ qml.PauliZ(1) @ qml.PauliZ(2) @ qml.PauliZ(3) ,\n",
        "              qml.PauliX(3) @ qml.PauliX(7) @ qml.PauliZ(4) @ qml.PauliZ(5) @ qml.PauliZ(6) ,\n",
        "              qml.PauliX(1) @ qml.PauliX(5) @ qml.PauliZ(2) @ qml.PauliZ(3) @ qml.PauliZ(4) ,\n",
        "              qml.PauliX(2) @ qml.PauliX(6) @ qml.PauliZ(3) @ qml.PauliZ(4) @ qml.PauliZ(5)]\n",
        "\n",
        "coeffs_YY_ZZZ = [-t/2, -t/2, -t/2, -t/2]\n",
        "ops_YY_ZZZ = [qml.PauliY(0) @ qml.PauliY(4) @ qml.PauliZ(1) @ qml.PauliZ(2) @ qml.PauliZ(3) ,\n",
        "              qml.PauliY(3) @ qml.PauliY(7) @ qml.PauliZ(4) @ qml.PauliZ(5) @ qml.PauliZ(6) ,\n",
        "              qml.PauliY(1) @ qml.PauliY(5) @ qml.PauliZ(2) @ qml.PauliZ(3) @ qml.PauliZ(4) ,\n",
        "              qml.PauliY(2) @ qml.PauliY(6) @ qml.PauliZ(3) @ qml.PauliZ(4) @ qml.PauliZ(5)]\n",
        "\n",
        "coeffs_XX = [-t/2, -t/2]\n",
        "ops_XX = [qml.PauliX(1) @ qml.PauliX(2) , qml.PauliX(5) @ qml.PauliX(6)]\n",
        "\n",
        "coeffs_YY = [-t/2, -t/2]\n",
        "ops_YY = [qml.PauliY(1) @ qml.PauliY(2) , qml.PauliY(5) @ qml.PauliY(6)]\n",
        "\n",
        "hamiltonian_hopp = qml.Hamiltonian(coeffs_XX_ZZ, ops_XX_ZZ) + qml.Hamiltonian(coeffs_YY_ZZ, ops_YY_ZZ) + qml.Hamiltonian(coeffs_XX_ZZZ, ops_XX_ZZZ) + qml.Hamiltonian(coeffs_YY_ZZZ, ops_YY_ZZZ) + qml.Hamiltonian(coeffs_XX, ops_XX) + qml.Hamiltonian(coeffs_YY, ops_YY)"
      ]
    },
    {
      "cell_type": "code",
      "execution_count": 11,
      "metadata": {
        "id": "NPsI0YzT5n8D"
      },
      "outputs": [],
      "source": [
        "coeffs_Z = [-U/4, -U/4, -U/4, -U/4, -U/4, -U/4, -U/4, -U/4]\n",
        "ops_Z = [qml.PauliZ(0), qml.PauliZ(1), qml.PauliZ(2), qml.PauliZ(3), qml.PauliZ(4), qml.PauliZ(5), qml.PauliZ(6), qml.PauliZ(7)]\n",
        "\n",
        "coeffs_ZZ = [U/4, U/4, U/4, U/4]\n",
        "ops_ZZ = [qml.PauliZ(0) @ qml.PauliZ(1), qml.PauliZ(2) @ qml.PauliZ(3), qml.PauliZ(4) @ qml.PauliZ(5), qml.PauliZ(6) @ qml.PauliZ(7)]\n",
        "\n",
        "hamiltonian_onsite = qml.Hamiltonian(coeffs_Z, ops_Z) + qml.Hamiltonian(coeffs_ZZ, ops_ZZ)"
      ]
    },
    {
      "cell_type": "code",
      "execution_count": 12,
      "metadata": {
        "id": "QdYKjXey7UZa"
      },
      "outputs": [],
      "source": [
        "hamiltonian = hamiltonian_hopp + hamiltonian_onsite\n",
        "\n",
        "hamiltonian_mat = qml.matrix(hamiltonian, wire_order=[0, 1, 2, 3, 4, 5, 6, 7])"
      ]
    },
    {
      "cell_type": "code",
      "execution_count": 13,
      "metadata": {
        "id": "zgLsD9O_7luP"
      },
      "outputs": [],
      "source": [
        "from numpy import linalg as LA\n",
        "from scipy.linalg import expm, sinm, cosm\n",
        "import matplotlib.pyplot as plt\n",
        "from functools import reduce"
      ]
    },
    {
      "cell_type": "code",
      "execution_count": 14,
      "metadata": {
        "colab": {
          "base_uri": "https://localhost:8080/"
        },
        "id": "8BTQf1my7fJY",
        "outputId": "21e47f19-3989-488f-ce03-be41ee40b164"
      },
      "outputs": [
        {
          "data": {
            "text/plain": [
              "array([-4.37228132e+00, -3.55405387e+00, -3.55405387e+00, -3.37228132e+00,\n",
              "       -3.34084762e+00, -3.29295138e+00, -3.21111226e+00, -3.21111226e+00,\n",
              "       -2.86387634e+00, -2.78526086e+00, -2.72359564e+00, -2.72359564e+00,\n",
              "       -2.72359564e+00, -2.72359564e+00, -2.55405387e+00, -2.55405387e+00,\n",
              "       -2.45136862e+00, -2.45136862e+00, -2.00000000e+00, -2.00000000e+00,\n",
              "       -2.00000000e+00, -2.00000000e+00, -2.00000000e+00, -2.00000000e+00,\n",
              "       -2.00000000e+00, -2.00000000e+00, -2.00000000e+00, -1.79128785e+00,\n",
              "       -1.79128785e+00, -1.61803399e+00, -1.61803399e+00, -1.56155281e+00,\n",
              "       -1.56155281e+00, -1.50972115e+00, -1.50972115e+00, -1.45136862e+00,\n",
              "       -1.45136862e+00, -1.30277564e+00, -1.30277564e+00, -1.25806217e+00,\n",
              "       -1.25806217e+00, -1.21111226e+00, -1.21111226e+00, -1.17371582e+00,\n",
              "       -1.17371582e+00, -1.00000000e+00, -1.00000000e+00, -1.00000000e+00,\n",
              "       -1.00000000e+00, -1.00000000e+00, -1.00000000e+00, -1.00000000e+00,\n",
              "       -1.00000000e+00, -8.19920232e-01, -8.19920232e-01, -8.19920232e-01,\n",
              "       -8.19920232e-01, -7.91287847e-01, -7.91287847e-01, -6.61232435e-01,\n",
              "       -6.61232435e-01, -6.61232435e-01, -6.61232435e-01, -6.18033989e-01,\n",
              "       -6.18033989e-01, -5.61552813e-01, -5.61552813e-01, -5.09721155e-01,\n",
              "       -5.09721155e-01, -3.72281323e-01, -3.70622695e-01, -3.70622695e-01,\n",
              "       -3.02775638e-01, -3.02775638e-01, -1.77635684e-15, -1.33226763e-15,\n",
              "       -1.11022302e-15, -8.88178420e-16, -8.88178420e-16, -6.66133815e-16,\n",
              "       -4.44089210e-16, -4.44089210e-16, -2.22044605e-16, -2.22044605e-16,\n",
              "       -2.22044605e-16, -2.22044605e-16,  0.00000000e+00,  0.00000000e+00,\n",
              "        0.00000000e+00,  1.11022302e-16,  3.33066907e-16,  6.66133815e-16,\n",
              "        7.77156117e-16,  8.88178420e-16,  9.99200722e-16,  1.11022302e-15,\n",
              "        2.10942375e-15,  1.91235363e-01,  1.91235363e-01,  1.91235363e-01,\n",
              "        1.91235363e-01,  2.45741808e-01,  2.45741808e-01,  3.81966011e-01,\n",
              "        3.81966011e-01,  4.78925817e-01,  4.78925817e-01,  5.07690516e-01,\n",
              "        5.21074183e-01,  5.21074183e-01,  5.23028722e-01,  6.18033989e-01,\n",
              "        6.18033989e-01,  6.27718677e-01,  7.41937827e-01,  7.41937827e-01,\n",
              "        7.54258192e-01,  7.54258192e-01,  8.08764637e-01,  8.08764637e-01,\n",
              "        8.26284182e-01,  8.26284182e-01,  1.00000000e+00,  1.00000000e+00,\n",
              "        1.00000000e+00,  1.00000000e+00,  1.00000000e+00,  1.00000000e+00,\n",
              "        1.00000000e+00,  1.00000000e+00,  1.00000000e+00,  1.00000000e+00,\n",
              "        1.00000000e+00,  1.00000000e+00,  1.00000000e+00,  1.00000000e+00,\n",
              "        1.00000000e+00,  1.00000000e+00,  1.24574181e+00,  1.24574181e+00,\n",
              "        1.37062270e+00,  1.37062270e+00,  1.37062270e+00,  1.37062270e+00,\n",
              "        1.37228132e+00,  1.38196601e+00,  1.38196601e+00,  1.47697128e+00,\n",
              "        1.47892582e+00,  1.47892582e+00,  1.49230948e+00,  1.52107418e+00,\n",
              "        1.52107418e+00,  1.61803399e+00,  1.61803399e+00,  1.62937730e+00,\n",
              "        1.62937730e+00,  1.66123243e+00,  1.66123243e+00,  1.75425819e+00,\n",
              "        1.75425819e+00,  1.81992023e+00,  1.81992023e+00,  2.00000000e+00,\n",
              "        2.00000000e+00,  2.00000000e+00,  2.00000000e+00,  2.00000000e+00,\n",
              "        2.00000000e+00,  2.00000000e+00,  2.00000000e+00,  2.00000000e+00,\n",
              "        2.00000000e+00,  2.00000000e+00,  2.00000000e+00,  2.00000000e+00,\n",
              "        2.00000000e+00,  2.00000000e+00,  2.00000000e+00,  2.17371582e+00,\n",
              "        2.17371582e+00,  2.17371582e+00,  2.17371582e+00,  2.25806217e+00,\n",
              "        2.25806217e+00,  2.25806217e+00,  2.25806217e+00,  2.30277564e+00,\n",
              "        2.30277564e+00,  2.37228132e+00,  2.50972115e+00,  2.50972115e+00,\n",
              "        2.56155281e+00,  2.56155281e+00,  2.61803399e+00,  2.61803399e+00,\n",
              "        2.79128785e+00,  2.79128785e+00,  2.80876464e+00,  2.80876464e+00,\n",
              "        3.00000000e+00,  3.00000000e+00,  3.00000000e+00,  3.00000000e+00,\n",
              "        3.00000000e+00,  3.00000000e+00,  3.00000000e+00,  3.00000000e+00,\n",
              "        3.00000000e+00,  3.00000000e+00,  3.00000000e+00,  3.00000000e+00,\n",
              "        3.30277564e+00,  3.30277564e+00,  3.45136862e+00,  3.45136862e+00,\n",
              "        3.50972115e+00,  3.50972115e+00,  3.56155281e+00,  3.56155281e+00,\n",
              "        3.61803399e+00,  3.61803399e+00,  3.66123243e+00,  3.66123243e+00,\n",
              "        3.72359564e+00,  3.72359564e+00,  3.79128785e+00,  3.79128785e+00,\n",
              "        3.81992023e+00,  3.81992023e+00,  4.00000000e+00,  4.00000000e+00,\n",
              "        4.00000000e+00,  4.00000000e+00,  4.00000000e+00,  4.00000000e+00,\n",
              "        4.21111226e+00,  4.21111226e+00,  4.21111226e+00,  4.21111226e+00,\n",
              "        4.45136862e+00,  4.45136862e+00,  4.55405387e+00,  4.55405387e+00,\n",
              "        4.78526086e+00,  4.86387634e+00,  5.00000000e+00,  5.00000000e+00,\n",
              "        5.29295138e+00,  5.34084762e+00,  5.37228132e+00,  5.55405387e+00,\n",
              "        5.55405387e+00,  5.72359564e+00,  5.72359564e+00,  6.37228132e+00])"
            ]
          },
          "execution_count": 14,
          "metadata": {},
          "output_type": "execute_result"
        }
      ],
      "source": [
        "eigenvalues, eigenvectors = LA.eigh(hamiltonian_mat)\n",
        "eigenvalues + U#valor del offset de U\n",
        "\n"
      ]
    }
  ],
  "metadata": {
    "colab": {
      "authorship_tag": "ABX9TyMSRGc8eOvYj3dBQUiIkbXB",
      "provenance": []
    },
    "kernelspec": {
      "display_name": "pennylane2",
      "language": "python",
      "name": "python3"
    },
    "language_info": {
      "codemirror_mode": {
        "name": "ipython",
        "version": 3
      },
      "file_extension": ".py",
      "mimetype": "text/x-python",
      "name": "python",
      "nbconvert_exporter": "python",
      "pygments_lexer": "ipython3",
      "version": "3.12.11"
    }
  },
  "nbformat": 4,
  "nbformat_minor": 0
}
