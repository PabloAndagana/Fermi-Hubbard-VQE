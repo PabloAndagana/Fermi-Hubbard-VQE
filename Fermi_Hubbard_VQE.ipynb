{
  "cells": [
    {
      "cell_type": "markdown",
      "metadata": {
        "id": "k7todaoOb3HB"
      },
      "source": [
        "**Study of Quantum Field Theory systems via quantum computing techniques**\n",
        "\n",
        "This respository has the simulation of a $2 \\times 2$ lattice for the half filled Fermi-Hubbard model, as a complementary part of the report."
      ]
    },
    {
      "cell_type": "code",
      "execution_count": 1,
      "metadata": {
        "colab": {
          "base_uri": "https://localhost:8080/"
        },
        "collapsed": true,
        "id": "fB9vHaz2OeOw",
        "outputId": "49d62fdf-dbd1-4c39-ccce-ddfe5ad85683"
      },
      "outputs": [],
      "source": [
        "import pennylane as qml\n",
        "from pennylane import numpy as np\n",
        "import matplotlib.pyplot as plt"
      ]
    },
    {
      "cell_type": "code",
      "execution_count": 43,
      "metadata": {
        "id": "JqLOTDCCYt5A"
      },
      "outputs": [],
      "source": [
        "n_sites = 4  \n",
        "n_qubits = 2 * n_sites\n",
        "n_cells = (2, 2)\n",
        "U = 2\n",
        "t = 1\n",
        "layers = 8"
      ]
    },
    {
      "cell_type": "code",
      "execution_count": 3,
      "metadata": {
        "id": "Os2dfWJXz-ov"
      },
      "outputs": [],
      "source": [
        "dev = qml.device(\"default.qubit\", wires=n_qubits)\n",
        "qml.drawer.use_style('pennylane')"
      ]
    },
    {
      "cell_type": "markdown",
      "metadata": {
        "id": "U3lGFYkGcYDL"
      },
      "source": [
        "**On-site interaction term**\n",
        "\n",
        "The on-site Coulomb interaction for a given site can be written as\n",
        "\n",
        "\\begin{equation}\n",
        "    e^{- \\frac{i}{4} U \\theta (1 - Z_i)(1 - Z_j)},\n",
        "\\end{equation}\n",
        "\n",
        "where $\\theta$ is a variational parameter. This term can be implemented using a sequence of three PennyLane operations: two single-qubit $Z$-rotations qml.RZ and one two-qubit Ising interaction gate qml.IsingZZ. The exponential can be expanded as:\n",
        "\n",
        "\\begin{equation}\n",
        "    e^{- \\frac{i}{4} U \\theta (1 - Z_i)(1 - Z_j)}\n",
        "    = e^{- \\frac{i U \\theta}{4}}\n",
        "      e^{\\frac{i U \\theta}{4} Z_i}\n",
        "      e^{\\frac{i U \\theta}{4} Z_j}\n",
        "      e^{-\\frac{i U \\theta}{4} Z_i Z_j}\n",
        "\\end{equation}\n",
        "\n",
        "The operators define the sequence of gates used in implementation."
      ]
    },
    {
      "cell_type": "code",
      "execution_count": null,
      "metadata": {
        "id": "mA9omm4OeHam"
      },
      "outputs": [],
      "source": [
        "def onsite_interaction(q_i,q_j,theta):\n",
        "    qml.RZ( -theta / 2, wires=q_i)\n",
        "    qml.RZ(-theta / 2, wires=q_j)\n",
        "    qml.IsingZZ(theta/ 2, wires=[q_i, q_j])"
      ]
    },
    {
      "cell_type": "markdown",
      "metadata": {
        "id": "WEVhQdVMeIov"
      },
      "source": [
        "Hopping term\n",
        "\n",
        "To implement hopping terms such as\n",
        "\n",
        "\\begin{equation}\n",
        "    -\\frac{J}{2} (X_0 X_4 + Y_0 Y_4) Z_1 Z_2 Z_3,\n",
        "\\end{equation}\n",
        "\n",
        "where the interaction occurs between non-adjacent qubits, in this case, qubit 0 and qubit 4 in JW ordering, we must eliminate the inefficient Jordan-Wigner $Z$-string $Z_1 Z_2 Z_3$. This is accomplished by moving one qubit to an adjacent position using FSWAP gates.\n",
        "\n",
        " Once the qubits are adjacent, we apply a simplified hopping interaction:\n",
        "\n",
        "\\begin{equation}\n",
        "    e^{- \\frac{i J \\theta}{4}(X_i X_j + Y_i Y_j)}.\n",
        "\\end{equation}\n",
        "\n",
        "The movement and interaction can be encoded using the following algorithm:"
      ]
    },
    {
      "cell_type": "code",
      "execution_count": 44,
      "metadata": {
        "id": "zljMCA9aeJNV"
      },
      "outputs": [],
      "source": [
        "def apply_hopping(q_i,q_j,theta):\n",
        "    qml.IsingXY(t * theta, wires=[q_i, q_j])\n",
        "\n",
        "def move_and_hop(i, j, theta):\n",
        "\n",
        "    path = list(range(min(i, j), max(i, j)))\n",
        "\n",
        "    for k in path:\n",
        "        qml.FermionicSWAP(phi=np.pi,wires=[k, k+1])\n",
        "\n",
        "    \n",
        "    apply_hopping(i, i+1, theta)\n",
        "\n",
        "    \n",
        "    for k in reversed(path):\n",
        "        qml.FermionicSWAP(phi=np.pi,wires=[k, k+1])\n"
      ]
    },
    {
      "cell_type": "markdown",
      "metadata": {
        "id": "uRlKd3BfeO2o"
      },
      "source": [
        "With all the functions defined we can construct a layer for the Hamiltonian Variational Asantz"
      ]
    },
    {
      "cell_type": "code",
      "execution_count": 45,
      "metadata": {
        "id": "0SHkNR0neUV4"
      },
      "outputs": [],
      "source": [
        "def hva_layer(params, layer):\n",
        "    p = params[layer]\n",
        "\n",
        "\n",
        "    move_and_hop(0, 3, p[0])\n",
        "    move_and_hop(0, 4, p[1])\n",
        "    move_and_hop(1, 2, p[2])\n",
        "    move_and_hop(1, 5, p[3])\n",
        "    move_and_hop(3, 7, p[4])\n",
        "    move_and_hop(2, 6, p[5])\n",
        "    move_and_hop(4, 7, p[6])\n",
        "    move_and_hop(5, 6, p[2])\n",
        "\n",
        "    onsite_interaction(0, 1, p[7])\n",
        "    onsite_interaction(2, 3, p[7])\n",
        "    onsite_interaction(4, 5, p[7])\n",
        "    onsite_interaction(6, 7, p[7])"
      ]
    },
    {
      "cell_type": "markdown",
      "metadata": {
        "id": "p6cwSqg4k3Rc"
      },
      "source": [
        "All what is left is to prepare de initial state, and construct the classical optimizer."
      ]
    },
    {
      "cell_type": "markdown",
      "metadata": {},
      "source": [
        "#### Construcción del Slater determinant"
      ]
    },
    {
      "cell_type": "code",
      "execution_count": 46,
      "metadata": {},
      "outputs": [],
      "source": [
        "spin_up_wires = [0, 3, 4, 7]\n",
        "spin_down_wires = [1, 2, 5, 6]\n",
        "\n",
        "theta_up_1 = np.pi/5\n",
        "theta_up_2 = np.pi/7\n",
        "theta_down_1 = np.pi/6\n",
        "theta_down_2 = np.pi/8\n",
        "\n",
        "givens_rotations_spin = [\n",
        "    (2.0943951023931966, 0, 1),\n",
        "    (1.5707963267948963, 1, 2),\n",
        "    (0.6154797086703865, 2, 3),\n",
        "    (0.7853981633974483, 1, 2),\n",
        "    (3.141592653589793, 2, 3)\n",
        "]\n",
        "\n",
        "def slater_state():\n",
        "    qml.PauliX(wires=spin_up_wires[0])\n",
        "    qml.PauliX(wires=spin_up_wires[1])\n",
        "    qml.PauliX(wires=spin_down_wires[0])\n",
        "    qml.PauliX(wires=spin_down_wires[1])\n",
        "\n",
        "    for theta, i, j in givens_rotations_spin:\n",
        "        qml.SingleExcitation(theta, wires=[spin_up_wires[i], spin_up_wires[j]])\n",
        "    \n",
        "    for theta, i, j in givens_rotations_spin:\n",
        "        qml.SingleExcitation(theta, wires=[spin_down_wires[i], spin_down_wires[j]])\n",
        "\n",
        "\n",
        "\n",
        "params2 = np.array([theta_up_1, theta_up_2, theta_down_1, theta_down_2], requires_grad=False)\n"
      ]
    },
    {
      "cell_type": "code",
      "execution_count": null,
      "metadata": {
        "colab": {
          "base_uri": "https://localhost:8080/",
          "height": 467
        },
        "id": "GP067RoJyXgM",
        "outputId": "4113db92-c9af-47e7-acda-47591548609c"
      },
      "outputs": [],
      "source": [
        "def prepare_initial_state():\n",
        "    slater_state()\n",
        "\n",
        "def circuit(params):\n",
        "    #prec = 0.1\n",
        "    #rand_angle = np.pi + prec*np.random.rand() #noise\n",
        "    #for i in range(n_qubits):\n",
        "        #qml.RX(rand_angle, wires=i)\n",
        "    prepare_initial_state()\n",
        "    for l in range(layers):\n",
        "        hva_layer(params, l)\n",
        "\n",
        "@qml.qnode(dev)\n",
        "def circuit_state(params):\n",
        "  circuit(params)\n",
        "  return qml.state()\n",
        "\n",
        "@qml.qnode(dev)\n",
        "def cost_fn(params):\n",
        "    circuit(params)\n",
        "    return qml.expval(hamiltonian)\n",
        "\n",
        "def run_vqe(max_steps=100, optimizer=\"adam\"):\n",
        "    np.random.seed(42)\n",
        "    params = np.random.uniform(0, np.pi, size=(layers, 8))\n",
        "\n",
        "    if optimizer == \"adam\":\n",
        "        opt = qml.AdamOptimizer(stepsize=0.1)\n",
        "    elif optimizer == \"gd\":\n",
        "        opt = qml.GradientDescentOptimizer(stepsize=0.1)\n",
        "    elif optimizer == \"spsa\":\n",
        "        opt = qml.SPSAOptimizer(maxiter=max_steps)\n",
        "    else:\n",
        "        raise ValueError(\"Optimizer not recognized.\")\n",
        "\n",
        "    energies = []\n",
        "\n",
        "    for i in range(max_steps):\n",
        "        params, energy = opt.step_and_cost(cost_fn, params)\n",
        "        energies.append(energy)\n",
        "\n",
        "    return energies\n"
      ]
    },
    {
      "cell_type": "code",
      "execution_count": 51,
      "metadata": {},
      "outputs": [],
      "source": [
        "energies_adam = run_vqe(max_steps=100, optimizer=\"adam\")\n",
        "energies_gd = run_vqe(max_steps=100, optimizer=\"gd\")"
      ]
    },
    {
      "cell_type": "code",
      "execution_count": 52,
      "metadata": {},
      "outputs": [],
      "source": [
        "energies_spsa = run_vqe(max_steps=100, optimizer=\"spsa\")"
      ]
    },
    {
      "cell_type": "code",
      "execution_count": 53,
      "metadata": {},
      "outputs": [
        {
          "name": "stdout",
          "output_type": "stream",
          "text": [
            "-4.005371158617429\n",
            "-3.85951692461574\n",
            "-2.814900032787912\n"
          ]
        }
      ],
      "source": [
        "print(energies_adam[99])\n",
        "print(energies_gd[99])\n",
        "print(energies_spsa[99])"
      ]
    },
    {
      "cell_type": "code",
      "execution_count": 54,
      "metadata": {},
      "outputs": [
        {
          "data": {
            "image/png": "[encoded data removed]",
            "text/plain": [
              "<Figure size 640x480 with 1 Axes>"
            ]
          },
          "metadata": {},
          "output_type": "display_data"
        }
      ],
      "source": [
        "import matplotlib.pyplot as plt\n",
        "\n",
        "plt.plot(energies_adam, label=\"Adam Optimizer\")\n",
        "plt.plot(energies_gd, label=\"Gradient Descent Optimizer\")\n",
        "plt.plot(energies_spsa, label=\"SPSA Optimizer\")\n",
        "plt.xlabel(\"Iteration\")\n",
        "plt.ylabel(\"Energy\")\n",
        "plt.legend()\n",
        "plt.grid(True)\n",
        "plt.show()\n"
      ]
    },
    {
      "cell_type": "markdown",
      "metadata": {
        "id": "kHT_EOG_3Jzg"
      },
      "source": [
        "#### Exact Diagonalization"
      ]
    },
    {
      "cell_type": "code",
      "execution_count": 47,
      "metadata": {
        "id": "JJ2cSLqE3MsD"
      },
      "outputs": [],
      "source": [
        "coeffs_XX_ZZ = [-t/2, -t/2]\n",
        "ops_XX_ZZ = [qml.PauliX(0) @ qml.PauliX(3) @ qml.PauliZ(1) @ qml.PauliZ(2) , qml.PauliX(4) @ qml.PauliX(7) @ qml.PauliZ(1) @ qml.PauliZ(2)]\n",
        "\n",
        "coeffs_YY_ZZ = [-t/2, -t/2]\n",
        "ops_YY_ZZ = [qml.PauliY(0) @ qml.PauliY(3) @ qml.PauliZ(1) @ qml.PauliZ(2) , qml.PauliY(4) @ qml.PauliY(7) @ qml.PauliZ(1) @ qml.PauliZ(2)]\n",
        "\n",
        "coeffs_XX_ZZZ = [-t/2, -t/2, -t/2, -t/2]\n",
        "ops_XX_ZZZ = [qml.PauliX(0) @ qml.PauliX(4) @ qml.PauliZ(1) @ qml.PauliZ(2) @ qml.PauliZ(3) ,\n",
        "              qml.PauliX(3) @ qml.PauliX(7) @ qml.PauliZ(4) @ qml.PauliZ(5) @ qml.PauliZ(6) ,\n",
        "              qml.PauliX(1) @ qml.PauliX(5) @ qml.PauliZ(2) @ qml.PauliZ(3) @ qml.PauliZ(4) ,\n",
        "              qml.PauliX(2) @ qml.PauliX(6) @ qml.PauliZ(3) @ qml.PauliZ(4) @ qml.PauliZ(5)]\n",
        "\n",
        "coeffs_YY_ZZZ = [-t/2, -t/2, -t/2, -t/2]\n",
        "ops_YY_ZZZ = [qml.PauliY(0) @ qml.PauliY(4) @ qml.PauliZ(1) @ qml.PauliZ(2) @ qml.PauliZ(3) ,\n",
        "              qml.PauliY(3) @ qml.PauliY(7) @ qml.PauliZ(4) @ qml.PauliZ(5) @ qml.PauliZ(6) ,\n",
        "              qml.PauliY(1) @ qml.PauliY(5) @ qml.PauliZ(2) @ qml.PauliZ(3) @ qml.PauliZ(4) ,\n",
        "              qml.PauliY(2) @ qml.PauliY(6) @ qml.PauliZ(3) @ qml.PauliZ(4) @ qml.PauliZ(5)]\n",
        "\n",
        "coeffs_XX = [-t/2, -t/2]\n",
        "ops_XX = [qml.PauliX(1) @ qml.PauliX(2) , qml.PauliX(5) @ qml.PauliX(6)]\n",
        "\n",
        "coeffs_YY = [-t/2, -t/2]\n",
        "ops_YY = [qml.PauliY(1) @ qml.PauliY(2) , qml.PauliY(5) @ qml.PauliY(6)]\n",
        "\n",
        "hamiltonian_hopp = qml.Hamiltonian(coeffs_XX_ZZ, ops_XX_ZZ) + qml.Hamiltonian(coeffs_YY_ZZ, ops_YY_ZZ) + qml.Hamiltonian(coeffs_XX_ZZZ, ops_XX_ZZZ) + qml.Hamiltonian(coeffs_YY_ZZZ, ops_YY_ZZZ) + qml.Hamiltonian(coeffs_XX, ops_XX) + qml.Hamiltonian(coeffs_YY, ops_YY)"
      ]
    },
    {
      "cell_type": "code",
      "execution_count": 48,
      "metadata": {
        "id": "NPsI0YzT5n8D"
      },
      "outputs": [],
      "source": [
        "coeffs_Z = [-U/4, -U/4, -U/4, -U/4, -U/4, -U/4, -U/4, -U/4]\n",
        "ops_Z = [qml.PauliZ(0), qml.PauliZ(1), qml.PauliZ(2), qml.PauliZ(3), qml.PauliZ(4), qml.PauliZ(5), qml.PauliZ(6), qml.PauliZ(7)]\n",
        "\n",
        "coeffs_ZZ = [U/4, U/4, U/4, U/4]\n",
        "ops_ZZ = [qml.PauliZ(0) @ qml.PauliZ(1), qml.PauliZ(2) @ qml.PauliZ(3), qml.PauliZ(4) @ qml.PauliZ(5), qml.PauliZ(6) @ qml.PauliZ(7)]\n",
        "\n",
        "hamiltonian_onsite = qml.Hamiltonian(coeffs_Z, ops_Z) + qml.Hamiltonian(coeffs_ZZ, ops_ZZ)"
      ]
    },
    {
      "cell_type": "code",
      "execution_count": 49,
      "metadata": {
        "id": "QdYKjXey7UZa"
      },
      "outputs": [],
      "source": [
        "hamiltonian = hamiltonian_hopp + hamiltonian_onsite\n",
        "\n",
        "hamiltonian_mat = qml.matrix(hamiltonian, wire_order=[0, 1, 2, 3, 4, 5, 6, 7])"
      ]
    },
    {
      "cell_type": "code",
      "execution_count": 11,
      "metadata": {
        "id": "zgLsD9O_7luP"
      },
      "outputs": [],
      "source": [
        "from numpy import linalg as LA\n",
        "from scipy.linalg import expm, sinm, cosm\n",
        "import matplotlib.pyplot as plt\n",
        "from functools import reduce"
      ]
    },
    {
      "cell_type": "code",
      "execution_count": 50,
      "metadata": {
        "colab": {
          "base_uri": "https://localhost:8080/"
        },
        "id": "8BTQf1my7fJY",
        "outputId": "21e47f19-3989-488f-ce03-be41ee40b164"
      },
      "outputs": [
        {
          "data": {
            "text/plain": [
              "array([-4.00000000e+00, -3.20925146e+00, -3.20925146e+00, -3.07836346e+00,\n",
              "       -3.07836346e+00, -2.82842712e+00, -2.68584617e+00, -2.24914054e+00,\n",
              "       -2.24914054e+00, -2.16841234e+00, -2.16841234e+00, -2.16841234e+00,\n",
              "       -2.16841234e+00, -2.00000000e+00, -2.00000000e+00, -2.00000000e+00,\n",
              "       -2.00000000e+00, -2.00000000e+00, -2.00000000e+00, -2.00000000e+00,\n",
              "       -2.00000000e+00, -2.00000000e+00, -2.00000000e+00, -2.00000000e+00,\n",
              "       -1.64575131e+00, -1.64575131e+00, -1.62721301e+00, -1.41421356e+00,\n",
              "       -1.41421356e+00, -1.23606798e+00, -1.23606798e+00, -1.20925146e+00,\n",
              "       -1.20925146e+00, -1.19601859e+00, -1.19601859e+00, -1.10277505e+00,\n",
              "       -1.10277505e+00, -9.67648759e-01, -9.67648759e-01, -7.32050808e-01,\n",
              "       -7.32050808e-01, -5.18008189e-01, -5.18008189e-01, -5.18008189e-01,\n",
              "       -5.18008189e-01, -2.49140538e-01, -2.49140538e-01, -2.46493203e-01,\n",
              "       -2.46493203e-01, -3.10862447e-15, -2.22044605e-15, -1.33226763e-15,\n",
              "       -1.33226763e-15, -1.33226763e-15, -1.33226763e-15, -8.88178420e-16,\n",
              "       -4.44089210e-16, -4.44089210e-16, -4.44089210e-16, -4.44089210e-16,\n",
              "       -4.44089210e-16,  0.00000000e+00,  0.00000000e+00,  0.00000000e+00,\n",
              "        0.00000000e+00,  2.22044605e-16,  4.44089210e-16,  4.44089210e-16,\n",
              "        4.44089210e-16,  8.88178420e-16,  8.88178420e-16,  1.11022302e-15,\n",
              "        1.55431223e-15,  2.44249065e-15,  3.10862447e-15,  3.10862447e-15,\n",
              "        1.22400120e-01,  1.22400120e-01,  1.22400120e-01,  1.22400120e-01,\n",
              "        3.54248689e-01,  3.54248689e-01,  4.68773012e-01,  4.68773012e-01,\n",
              "        5.85786438e-01,  5.85786438e-01,  5.85786438e-01,  5.85786438e-01,\n",
              "        7.63932023e-01,  7.63932023e-01,  8.53634511e-01,  8.53634511e-01,\n",
              "        8.97224951e-01,  8.97224951e-01,  9.21636537e-01,  9.21636537e-01,\n",
              "        9.24503600e-01,  9.24503600e-01,  1.05863316e+00,  1.07549640e+00,\n",
              "        1.07549640e+00,  1.07549640e+00,  1.07549640e+00,  1.14636549e+00,\n",
              "        1.14636549e+00,  1.17157288e+00,  1.26794919e+00,  1.26794919e+00,\n",
              "        1.41421356e+00,  1.41421356e+00,  1.53122699e+00,  1.53122699e+00,\n",
              "        1.87759988e+00,  1.87759988e+00,  2.00000000e+00,  2.00000000e+00,\n",
              "        2.00000000e+00,  2.00000000e+00,  2.00000000e+00,  2.00000000e+00,\n",
              "        2.00000000e+00,  2.00000000e+00,  2.00000000e+00,  2.00000000e+00,\n",
              "        2.00000000e+00,  2.00000000e+00,  2.00000000e+00,  2.00000000e+00,\n",
              "        2.00000000e+00,  2.00000000e+00,  2.00000000e+00,  2.00000000e+00,\n",
              "        2.00000000e+00,  2.00000000e+00,  2.00000000e+00,  2.00000000e+00,\n",
              "        2.00000000e+00,  2.00000000e+00,  2.00000000e+00,  2.00000000e+00,\n",
              "        2.00000000e+00,  2.00000000e+00,  2.00000000e+00,  2.00000000e+00,\n",
              "        2.24649320e+00,  2.24649320e+00,  2.24649320e+00,  2.24649320e+00,\n",
              "        2.46877301e+00,  2.46877301e+00,  2.51800819e+00,  2.51800819e+00,\n",
              "        2.58578644e+00,  2.58578644e+00,  2.73205081e+00,  2.73205081e+00,\n",
              "        2.80398141e+00,  2.80398141e+00,  2.82842712e+00,  2.85363451e+00,\n",
              "        2.85363451e+00,  2.94136684e+00,  2.96764876e+00,  2.96764876e+00,\n",
              "        2.96764876e+00,  2.96764876e+00,  3.03235124e+00,  3.03235124e+00,\n",
              "        3.10277505e+00,  3.10277505e+00,  3.14636549e+00,  3.14636549e+00,\n",
              "        3.19601859e+00,  3.19601859e+00,  3.19601859e+00,  3.19601859e+00,\n",
              "        3.23606798e+00,  3.23606798e+00,  3.41421356e+00,  3.41421356e+00,\n",
              "        3.41421356e+00,  3.41421356e+00,  3.53122699e+00,  3.53122699e+00,\n",
              "        3.64575131e+00,  3.64575131e+00,  3.75350680e+00,  3.75350680e+00,\n",
              "        4.00000000e+00,  4.00000000e+00,  4.00000000e+00,  4.00000000e+00,\n",
              "        4.00000000e+00,  4.00000000e+00,  4.00000000e+00,  4.00000000e+00,\n",
              "        4.00000000e+00,  4.00000000e+00,  4.00000000e+00,  4.00000000e+00,\n",
              "        4.00000000e+00,  4.00000000e+00,  4.00000000e+00,  4.00000000e+00,\n",
              "        4.00000000e+00,  4.00000000e+00,  4.16841234e+00,  4.16841234e+00,\n",
              "        4.24914054e+00,  4.24914054e+00,  4.73205081e+00,  4.73205081e+00,\n",
              "        4.92450360e+00,  4.92450360e+00,  5.07836346e+00,  5.07836346e+00,\n",
              "        5.07836346e+00,  5.07836346e+00,  5.10277505e+00,  5.10277505e+00,\n",
              "        5.20925146e+00,  5.20925146e+00,  5.23606798e+00,  5.23606798e+00,\n",
              "        5.41421356e+00,  5.41421356e+00,  5.62721301e+00,  5.64575131e+00,\n",
              "        5.64575131e+00,  5.87759988e+00,  5.87759988e+00,  6.00000000e+00,\n",
              "        6.00000000e+00,  6.00000000e+00,  6.00000000e+00,  6.00000000e+00,\n",
              "        6.00000000e+00,  6.00000000e+00,  6.00000000e+00,  6.00000000e+00,\n",
              "        6.00000000e+00,  6.00000000e+00,  6.24914054e+00,  6.24914054e+00,\n",
              "        6.51800819e+00,  6.51800819e+00,  6.68584617e+00,  6.82842712e+00,\n",
              "        7.20925146e+00,  7.20925146e+00,  8.00000000e+00,  8.00000000e+00,\n",
              "        8.00000000e+00,  8.00000000e+00,  8.16841234e+00,  8.16841234e+00])"
            ]
          },
          "execution_count": 50,
          "metadata": {},
          "output_type": "execute_result"
        }
      ],
      "source": [
        "eigenvalues, eigenvectors = LA.eigh(hamiltonian_mat)\n",
        "eigenvalues + U#valor del offset de U"
      ]
    }
  ],
  "metadata": {
    "colab": {
      "authorship_tag": "ABX9TyMSRGc8eOvYj3dBQUiIkbXB",
      "provenance": []
    },
    "kernelspec": {
      "display_name": "pennylane2",
      "language": "python",
      "name": "python3"
    },
    "language_info": {
      "codemirror_mode": {
        "name": "ipython",
        "version": 3
      },
      "file_extension": ".py",
      "mimetype": "text/x-python",
      "name": "python",
      "nbconvert_exporter": "python",
      "pygments_lexer": "ipython3",
      "version": "3.12.11"
    }
  },
  "nbformat": 4,
  "nbformat_minor": 0
}
